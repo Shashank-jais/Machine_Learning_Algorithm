{
 "cells": [
  {
   "cell_type": "code",
   "execution_count": 2,
   "metadata": {},
   "outputs": [],
   "source": [
    "import math\n",
    "import numpy as np"
   ]
  },
  {
   "cell_type": "code",
   "execution_count": 3,
   "metadata": {},
   "outputs": [],
   "source": [
    "x=np.array([1,0,1])\n",
    "w = np.array([[0.2,0.4,-0.5],\n",
    "     [-0.3,0.1,0.2]])\n",
    "\n",
    "b = np.array([-0.4,0.2])\n"
   ]
  },
  {
   "cell_type": "code",
   "execution_count": 4,
   "metadata": {},
   "outputs": [
    {
     "data": {
      "text/plain": [
       "(3,)"
      ]
     },
     "execution_count": 4,
     "metadata": {},
     "output_type": "execute_result"
    }
   ],
   "source": [
    "x.shape"
   ]
  },
  {
   "cell_type": "code",
   "execution_count": 5,
   "metadata": {},
   "outputs": [],
   "source": [
    "def output_layer(x,w,b):\n",
    "    inp_res=[]\n",
    "    for i in range(w.shape[0]) :\n",
    "        inp =0 \n",
    "        for j in range(x.shape[0]):\n",
    "            inp+= x[j]*w[i][j]\n",
    "        inp+=b[i]\n",
    "        out = 1/(1+math.exp(-inp))\n",
    "        inp_res.append(out)\n",
    "    return inp_res"
   ]
  },
  {
   "cell_type": "code",
   "execution_count": 6,
   "metadata": {},
   "outputs": [],
   "source": [
    "def final_err(target,final_out):\n",
    "    \n",
    "    err_final = final_out * (1-final_out) * (target - final_out)\n",
    "\n",
    "    return err_final"
   ]
  },
  {
   "cell_type": "code",
   "execution_count": 7,
   "metadata": {},
   "outputs": [],
   "source": [
    "def hidden_err(output_of_layers,err_final,w):\n",
    "    err=[]\n",
    "    for i in range(w.shape[1]):\n",
    "        e=output_of_layers[i]*(1-output_of_layers[i])*err_final*w[0][i]\n",
    "        err.append(e)\n",
    "    return err"
   ]
  },
  {
   "cell_type": "code",
   "execution_count": 8,
   "metadata": {},
   "outputs": [],
   "source": [
    "def upadate_final_paramete(w_res,b_res,err_final_Layer,output_of_layers):\n",
    "    for i in range(w_res.shape[1]):\n",
    "        w_res[0][i] = w_res[0][i]+0.9* err_final_Layer*output_of_layers[i]\n",
    "    \n",
    "    for i in range(b_res.shape[0]):\n",
    "        b_res[i] = b_res[i]+0.9*err_final_Layer\n",
    "    \n",
    "    return w_res,b_res"
   ]
  },
  {
   "cell_type": "code",
   "execution_count": 9,
   "metadata": {},
   "outputs": [],
   "source": [
    "def upadate_hidden_paramete(w,b,hidden_err,x):\n",
    "    for i in range(w.shape[0]):\n",
    "        for j in range(x.shape[0]):\n",
    "            w[i][j] = w[i][j]+0.9*hidden_err[i]*x[i]\n",
    "    for i in range(w.shape[0]):\n",
    "        b[i] = b[i]+0.9*hidden_err[i]\n",
    "    return w,b"
   ]
  },
  {
   "cell_type": "markdown",
   "metadata": {},
   "source": [
    "### 1St Iteration "
   ]
  },
  {
   "cell_type": "markdown",
   "metadata": {},
   "source": [
    "### Output Of first Hidden Layer"
   ]
  },
  {
   "cell_type": "code",
   "execution_count": 43,
   "metadata": {},
   "outputs": [
    {
     "data": {
      "text/plain": [
       "[0.3318122278318339, 0.52497918747894]"
      ]
     },
     "execution_count": 43,
     "metadata": {},
     "output_type": "execute_result"
    }
   ],
   "source": [
    "inp_to_output = output_layer(x,w,b)\n",
    "inp_to_output"
   ]
  },
  {
   "cell_type": "markdown",
   "metadata": {},
   "source": [
    "### Output of Final Layer"
   ]
  },
  {
   "cell_type": "code",
   "execution_count": 44,
   "metadata": {},
   "outputs": [
    {
     "data": {
      "text/plain": [
       "[0.47388889882398544]"
      ]
     },
     "execution_count": 44,
     "metadata": {},
     "output_type": "execute_result"
    }
   ],
   "source": [
    "w_res=np.array([[-0.3,-0.2]])\n",
    "b_res =np.array([0.1])\n",
    "final_out = output_layer(np.array(inp_to_output),w_res,b_res)\n",
    "\n",
    "final_out"
   ]
  },
  {
   "cell_type": "markdown",
   "metadata": {},
   "source": [
    "### Final Layer Error"
   ]
  },
  {
   "cell_type": "code",
   "execution_count": 45,
   "metadata": {},
   "outputs": [
    {
     "data": {
      "text/plain": [
       "0.1311690782143445"
      ]
     },
     "execution_count": 45,
     "metadata": {},
     "output_type": "execute_result"
    }
   ],
   "source": [
    "err_final_Layer = final_err(1, final_out[0])\n",
    "err_final_Layer"
   ]
  },
  {
   "cell_type": "markdown",
   "metadata": {},
   "source": [
    "### error Of hidden layer"
   ]
  },
  {
   "cell_type": "code",
   "execution_count": 46,
   "metadata": {},
   "outputs": [
    {
     "data": {
      "text/plain": [
       "[-0.008724561965433263, -0.006542085064168994]"
      ]
     },
     "execution_count": 46,
     "metadata": {},
     "output_type": "execute_result"
    }
   ],
   "source": [
    "Err_hidden_layer = hidden_err(inp_to_output,err_final_Layer,w_res)\n",
    "Err_hidden_layer"
   ]
  },
  {
   "cell_type": "markdown",
   "metadata": {},
   "source": [
    "### Updation Of Parameter Of Final Layer"
   ]
  },
  {
   "cell_type": "code",
   "execution_count": 47,
   "metadata": {},
   "outputs": [
    {
     "data": {
      "text/plain": [
       "array([0.21805217])"
      ]
     },
     "execution_count": 47,
     "metadata": {},
     "output_type": "execute_result"
    }
   ],
   "source": [
    "w_res,b_res= upadate_final_paramete(w_res,b_res,err_final_Layer,inp_to_output)\n",
    "w_res\n",
    "b_res"
   ]
  },
  {
   "cell_type": "code",
   "execution_count": 48,
   "metadata": {},
   "outputs": [
    {
     "data": {
      "text/plain": [
       "array([[-0.26082885, -0.13802507]])"
      ]
     },
     "execution_count": 48,
     "metadata": {},
     "output_type": "execute_result"
    }
   ],
   "source": [
    "w_res"
   ]
  },
  {
   "cell_type": "markdown",
   "metadata": {},
   "source": [
    "### Hidden Layer Parameter Updated"
   ]
  },
  {
   "cell_type": "code",
   "execution_count": 49,
   "metadata": {},
   "outputs": [],
   "source": [
    "w,b = upadate_hidden_paramete(w,b,Err_hidden_layer,x)"
   ]
  },
  {
   "cell_type": "code",
   "execution_count": 50,
   "metadata": {},
   "outputs": [
    {
     "data": {
      "text/plain": [
       "array([[ 0.19214789,  0.39214789, -0.50785211],\n",
       "       [-0.3       ,  0.1       ,  0.2       ]])"
      ]
     },
     "execution_count": 50,
     "metadata": {},
     "output_type": "execute_result"
    }
   ],
   "source": [
    "w"
   ]
  },
  {
   "cell_type": "code",
   "execution_count": 51,
   "metadata": {},
   "outputs": [
    {
     "data": {
      "text/plain": [
       "array([-0.40785211,  0.19411212])"
      ]
     },
     "execution_count": 51,
     "metadata": {},
     "output_type": "execute_result"
    }
   ],
   "source": [
    "b"
   ]
  },
  {
   "cell_type": "markdown",
   "metadata": {},
   "source": [
    "### 2nd Iteration"
   ]
  },
  {
   "cell_type": "code",
   "execution_count": 52,
   "metadata": {},
   "outputs": [
    {
     "data": {
      "text/plain": [
       "[0.32661033886282015, 0.5235106804004694]"
      ]
     },
     "execution_count": 52,
     "metadata": {},
     "output_type": "execute_result"
    }
   ],
   "source": [
    "inp_to_output = output_layer(x,w,b)\n",
    "inp_to_output"
   ]
  },
  {
   "cell_type": "code",
   "execution_count": 53,
   "metadata": {},
   "outputs": [
    {
     "data": {
      "text/plain": [
       "[0.47435122388178186]"
      ]
     },
     "execution_count": 53,
     "metadata": {},
     "output_type": "execute_result"
    }
   ],
   "source": [
    "w_res=np.array([[-0.3,-0.2]])\n",
    "b_res =np.array([0.1])\n",
    "final_out = output_layer(np.array(inp_to_output),w_res,b_res)\n",
    "\n",
    "final_out"
   ]
  },
  {
   "cell_type": "code",
   "execution_count": 54,
   "metadata": {},
   "outputs": [
    {
     "data": {
      "text/plain": [
       "0.13106639087479113"
      ]
     },
     "execution_count": 54,
     "metadata": {},
     "output_type": "execute_result"
    }
   ],
   "source": [
    "err_final_Layer = final_err(1, final_out[0])\n",
    "err_final_Layer"
   ]
  },
  {
   "cell_type": "code",
   "execution_count": 55,
   "metadata": {},
   "outputs": [
    {
     "data": {
      "text/plain": [
       "[-0.008647866322179376, -0.006538830099366762]"
      ]
     },
     "execution_count": 55,
     "metadata": {},
     "output_type": "execute_result"
    }
   ],
   "source": [
    "Err_hidden_layer = hidden_err(inp_to_output,err_final_Layer,w_res)\n",
    "Err_hidden_layer"
   ]
  },
  {
   "cell_type": "code",
   "execution_count": 56,
   "metadata": {},
   "outputs": [
    {
     "data": {
      "text/plain": [
       "array([0.21795975])"
      ]
     },
     "execution_count": 56,
     "metadata": {},
     "output_type": "execute_result"
    }
   ],
   "source": [
    "w_res,b_res= upadate_final_paramete(w_res,b_res,err_final_Layer,inp_to_output)\n",
    "w_res\n",
    "b_res"
   ]
  },
  {
   "cell_type": "code",
   "execution_count": 57,
   "metadata": {},
   "outputs": [
    {
     "data": {
      "text/plain": [
       "array([[-0.26147313, -0.13824681]])"
      ]
     },
     "execution_count": 57,
     "metadata": {},
     "output_type": "execute_result"
    }
   ],
   "source": [
    "w_res"
   ]
  },
  {
   "cell_type": "code",
   "execution_count": 58,
   "metadata": {},
   "outputs": [],
   "source": [
    "w,b = upadate_hidden_paramete(w,b,Err_hidden_layer,x)"
   ]
  },
  {
   "cell_type": "code",
   "execution_count": 59,
   "metadata": {},
   "outputs": [
    {
     "data": {
      "text/plain": [
       "array([[ 0.18436481,  0.38436481, -0.51563519],\n",
       "       [-0.3       ,  0.1       ,  0.2       ]])"
      ]
     },
     "execution_count": 59,
     "metadata": {},
     "output_type": "execute_result"
    }
   ],
   "source": [
    "w"
   ]
  },
  {
   "cell_type": "code",
   "execution_count": 60,
   "metadata": {},
   "outputs": [
    {
     "data": {
      "text/plain": [
       "array([-0.41563519,  0.18822718])"
      ]
     },
     "execution_count": 60,
     "metadata": {},
     "output_type": "execute_result"
    }
   ],
   "source": [
    "b"
   ]
  },
  {
   "cell_type": "code",
   "execution_count": 10,
   "metadata": {},
   "outputs": [],
   "source": [
    "def compute_result(X,w,b,w_res,b_res,epoch=1):\n",
    "    for i in range(epoch):\n",
    "        inp_to_output = output_layer(x,w,b)\n",
    "        final_out = output_layer(np.array(inp_to_output),w_res,b_res)\n",
    "        err_final_Layer = final_err(1, final_out[0])\n",
    "        Err_hidden_layer = hidden_err(inp_to_output,err_final_Layer,w_res)\n",
    "        w_res,b_res= upadate_final_paramete(w_res,b_res,err_final_Layer,inp_to_output)\n",
    "        w,b = upadate_hidden_paramete(w,b,Err_hidden_layer,x)\n",
    "\n",
    "        print(\"Final Output: \",final_out)\n",
    "    \n",
    "    # for i in range(w.shape[0]) :\n",
    "    #     for j in range(x.shape[0]):\n",
    "    #         print(\"W{}{}={}\".format(i+1,j+1,w[i][j]))\n",
    "\n",
    "    # print(\"W46 = {}\".format(w_res[0][0]))\n",
    "    # print(\"W56 = {}\".format(w_res[0][1]))\n",
    "\n",
    "    # for i in range(b.shape[0]):\n",
    "    #     print(\"B{}={}\".format(i,b[i]))\n",
    "    # print(\"B6={}\".format(b_res[0]))\n",
    "\n",
    "    print(\"Updated W for 1st hidden layer:\\n\", w)\n",
    "    print(\"Updated b for 1st hidden layer:\\n\", b)\n",
    "\n",
    "    print(\"Updated W for output layer:\\n\", w_res)\n",
    "    print(\"Updated b for output layer:\\n\", b_res)\n",
    "\n",
    "\n",
    "    \n",
    "    "
   ]
  },
  {
   "cell_type": "code",
   "execution_count": 11,
   "metadata": {},
   "outputs": [
    {
     "name": "stdout",
     "output_type": "stream",
     "text": [
      "Final Output:  [0.47388889882398544]\n",
      "Updated W for 1st hidden layer:\n",
      " [[ 0.19214789  0.39214789 -0.50785211]\n",
      " [-0.3         0.1         0.2       ]]\n",
      "Updated b for 1st hidden layer:\n",
      " [-0.40785211  0.19411212]\n",
      "Updated W for output layer:\n",
      " [[-0.26082885 -0.13802507]]\n",
      "Updated b for output layer:\n",
      " [0.21805217]\n"
     ]
    }
   ],
   "source": [
    "w_res=np.array([[-0.3,-0.2]])\n",
    "b_res =np.array([0.1])\n",
    "compute_result(x,w,b,w_res,b_res,1)"
   ]
  },
  {
   "cell_type": "code",
   "execution_count": 12,
   "metadata": {},
   "outputs": [
    {
     "name": "stdout",
     "output_type": "stream",
     "text": [
      "Final Output:  [0.515146658035532]\n",
      "Updated W for 1st hidden layer:\n",
      " [[ 0.1858955  0.3858955 -0.5141045]\n",
      " [-0.3        0.1        0.2      ]]\n",
      "Updated b for 1st hidden layer:\n",
      " [-0.4141045   0.19035954]\n",
      "Updated W for output layer:\n",
      " [[-0.22523097 -0.08096665]]\n",
      "Updated b for output layer:\n",
      " [0.32704406]\n"
     ]
    }
   ],
   "source": [
    "compute_result(x,w,b,w_res,b_res,1)"
   ]
  },
  {
   "cell_type": "code",
   "execution_count": 13,
   "metadata": {},
   "outputs": [
    {
     "name": "stdout",
     "output_type": "stream",
     "text": [
      "Final Output:  [0.5528261950190481]\n",
      "Updated W for 1st hidden layer:\n",
      " [[ 0.18099941  0.38099941 -0.51900059]\n",
      " [-0.3         0.1         0.2       ]]\n",
      "Updated b for 1st hidden layer:\n",
      " [-0.41900059  0.18834978]\n",
      "Updated W for output layer:\n",
      " [[-0.19314527 -0.02897518]]\n",
      "Updated b for output layer:\n",
      " [0.42653507]\n"
     ]
    }
   ],
   "source": [
    "compute_result(x,w,b,w_res,b_res,1)"
   ]
  },
  {
   "cell_type": "code",
   "execution_count": 14,
   "metadata": {},
   "outputs": [
    {
     "name": "stdout",
     "output_type": "stream",
     "text": [
      "Final Output:  [0.5865538225859805]\n",
      "Updated W for 1st hidden layer:\n",
      " [[ 0.17721127  0.37721127 -0.52278873]\n",
      " [-0.3         0.1         0.2       ]]\n",
      "Updated b for 1st hidden layer:\n",
      " [-0.42278873  0.18769739]\n",
      "Updated W for output layer:\n",
      " [[-0.16433257  0.01813553]]\n",
      "Updated b for output layer:\n",
      " [0.51677284]\n"
     ]
    }
   ],
   "source": [
    "compute_result(x,w,b,w_res,b_res,1)"
   ]
  },
  {
   "cell_type": "code",
   "execution_count": 15,
   "metadata": {},
   "outputs": [
    {
     "name": "stdout",
     "output_type": "stream",
     "text": [
      "Final Output:  [0.6163707437928547]\n",
      "Updated W for 1st hidden layer:\n",
      " [[ 0.17430733  0.37430733 -0.52569267]\n",
      " [-0.3         0.1         0.2       ]]\n",
      "Updated b for 1st hidden layer:\n",
      " [-0.42569267  0.18806683]\n",
      "Updated W for output layer:\n",
      " [[-0.13846606  0.06074477]]\n",
      "Updated b for output layer:\n",
      " [0.59841377]\n"
     ]
    }
   ],
   "source": [
    "compute_result(x,w,b,w_res,b_res,1)"
   ]
  },
  {
   "cell_type": "code",
   "execution_count": 16,
   "metadata": {},
   "outputs": [
    {
     "name": "stdout",
     "output_type": "stream",
     "text": [
      "Final Output:  [0.6425646228621961]\n",
      "Updated W for 1st hidden layer:\n",
      " [[ 0.17210003  0.37210003 -0.52789997]\n",
      " [-0.3         0.1         0.2       ]]\n",
      "Updated b for 1st hidden layer:\n",
      " [-0.42789997  0.18918668]\n",
      "Updated W for output layer:\n",
      " [[-0.11519608  0.09931276]]\n",
      "Updated b for output layer:\n",
      " [0.67229845]\n"
     ]
    }
   ],
   "source": [
    "compute_result(x,w,b,w_res,b_res,1)"
   ]
  },
  {
   "cell_type": "code",
   "execution_count": 17,
   "metadata": {},
   "outputs": [
    {
     "name": "stdout",
     "output_type": "stream",
     "text": [
      "Final Output:  [0.6655332401981813]\n",
      "Updated W for 1st hidden layer:\n",
      " [[ 0.17043871  0.37043871 -0.52956129]\n",
      " [-0.3         0.1         0.2       ]]\n",
      "Updated b for 1st hidden layer:\n",
      " [-0.42956129  0.19084703]\n",
      "Updated W for output layer:\n",
      " [[-0.09418794  0.13430914]]\n",
      "Updated b for output layer:\n",
      " [0.73930514]\n"
     ]
    }
   ],
   "source": [
    "compute_result(x,w,b,w_res,b_res,1)"
   ]
  },
  {
   "cell_type": "code",
   "execution_count": 18,
   "metadata": {},
   "outputs": [
    {
     "name": "stdout",
     "output_type": "stream",
     "text": [
      "Final Output:  [0.6856971109573735]\n",
      "Updated W for 1st hidden layer:\n",
      " [[ 0.16920517  0.36920517 -0.53079483]\n",
      " [-0.3         0.1         0.2       ]]\n",
      "Updated b for 1st hidden layer:\n",
      " [-0.43079483  0.19288981]\n",
      "Updated W for output layer:\n",
      " [[-0.07513974  0.16617465]]\n",
      "Updated b for output layer:\n",
      " [0.80026888]\n"
     ]
    }
   ],
   "source": [
    "compute_result(x,w,b,w_res,b_res,1)"
   ]
  },
  {
   "cell_type": "code",
   "execution_count": 19,
   "metadata": {},
   "outputs": [
    {
     "name": "stdout",
     "output_type": "stream",
     "text": [
      "Final Output:  [0.703452844089538]\n",
      "Updated W for 1st hidden layer:\n",
      " [[ 0.16830771  0.36830771 -0.53169229]\n",
      " [-0.3         0.1         0.2       ]]\n",
      "Updated b for 1st hidden layer:\n",
      " [-0.43169229  0.1951978 ]\n",
      "Updated W for output layer:\n",
      " [[-0.05778805  0.19530446]]\n",
      "Updated b for output layer:\n",
      " [0.85594449]\n"
     ]
    }
   ],
   "source": [
    "compute_result(x,w,b,w_res,b_res,1)"
   ]
  },
  {
   "cell_type": "code",
   "execution_count": 20,
   "metadata": {},
   "outputs": [
    {
     "name": "stdout",
     "output_type": "stream",
     "text": [
      "Final Output:  [0.7191531161608903]\n",
      "Updated W for 1st hidden layer:\n",
      " [[ 0.16767547  0.36767547 -0.53232453]\n",
      " [-0.3         0.1         0.2       ]]\n",
      "Updated b for 1st hidden layer:\n",
      " [-0.43232453  0.19768477]\n",
      "Updated W for output layer:\n",
      " [[-0.04190717  0.22204395]]\n",
      "Updated b for output layer:\n",
      " [0.90699536]\n"
     ]
    }
   ],
   "source": [
    "compute_result(x,w,b,w_res,b_res,1)"
   ]
  },
  {
   "cell_type": "code",
   "execution_count": 21,
   "metadata": {},
   "outputs": [
    {
     "name": "stdout",
     "output_type": "stream",
     "text": [
      "Final Output:  [0.7331015860390268]\n",
      "Updated W for 1st hidden layer:\n",
      " [[ 0.16725366  0.36725366 -0.53274634]\n",
      " [-0.3         0.1         0.2       ]]\n",
      "Updated b for 1st hidden layer:\n",
      " [-0.43274634  0.20028758]\n",
      "Updated W for output layer:\n",
      " [[-0.0273055   0.24669088]]\n",
      "Updated b for output layer:\n",
      " [0.95399544]\n"
     ]
    }
   ],
   "source": [
    "compute_result(x,w,b,w_res,b_res,1)"
   ]
  },
  {
   "cell_type": "code",
   "execution_count": 22,
   "metadata": {},
   "outputs": [
    {
     "name": "stdout",
     "output_type": "stream",
     "text": [
      "Final Output:  [0.7455551554403165]\n",
      "Updated W for 1st hidden layer:\n",
      " [[ 0.16699975  0.36699975 -0.53300025]\n",
      " [-0.3         0.1         0.2       ]]\n",
      "Updated b for 1st hidden layer:\n",
      " [-0.43300025  0.20296004]\n",
      "Updated W for output layer:\n",
      " [[-0.013821    0.26950013]]\n",
      "Updated b for output layer:\n",
      " [0.99743742]\n"
     ]
    }
   ],
   "source": [
    "compute_result(x,w,b,w_res,b_res,1)"
   ]
  },
  {
   "cell_type": "code",
   "execution_count": 23,
   "metadata": {},
   "outputs": [
    {
     "name": "stdout",
     "output_type": "stream",
     "text": [
      "Final Output:  [0.7567292458152037]\n",
      "Final Output:  [0.766803853853552]\n",
      "Final Output:  [0.775929341950887]\n",
      "Final Output:  [0.7842315506909104]\n",
      "Final Output:  [0.7918161311022122]\n",
      "Final Output:  [0.7987721344958204]\n",
      "Final Output:  [0.8051749512889325]\n",
      "Final Output:  [0.8110887024320323]\n",
      "Final Output:  [0.8165681810659675]\n",
      "Final Output:  [0.8216604293132113]\n",
      "Updated W for 1st hidden layer:\n",
      " [[ 0.16890858  0.36890858 -0.53109142]\n",
      " [-0.3         0.1         0.2       ]]\n",
      "Updated b for 1st hidden layer:\n",
      " [-0.43109142  0.22918652]\n",
      "Updated W for output layer:\n",
      " [[0.08166182 0.43201102]]\n",
      "Updated b for output layer:\n",
      " [1.30499356]\n"
     ]
    }
   ],
   "source": [
    "compute_result(x,w,b,w_res,b_res,10)\n"
   ]
  },
  {
   "cell_type": "code",
   "execution_count": 24,
   "metadata": {},
   "outputs": [
    {
     "name": "stdout",
     "output_type": "stream",
     "text": [
      "Final Output:  [0.8264060210438303]\n",
      "Final Output:  [0.8308401083740282]\n",
      "Final Output:  [0.8349932783793905]\n",
      "Final Output:  [0.8388922571684662]\n",
      "Final Output:  [0.8425604909044867]\n",
      "Final Output:  [0.8460186273240009]\n",
      "Final Output:  [0.849284916510432]\n",
      "Final Output:  [0.8523755458935153]\n",
      "Final Output:  [0.8553049214553311]\n",
      "Final Output:  [0.8580859047614025]\n",
      "Final Output:  [0.8607300135661736]\n",
      "Final Output:  [0.8632475922596875]\n",
      "Final Output:  [0.8656479572430075]\n",
      "Final Output:  [0.8679395213788121]\n",
      "Final Output:  [0.8701299009098866]\n",
      "Final Output:  [0.8722260076324069]\n",
      "Final Output:  [0.8742341286221433]\n",
      "Final Output:  [0.8761599954158702]\n",
      "Final Output:  [0.878008844228493]\n",
      "Final Output:  [0.8797854685238403]\n",
      "Updated W for 1st hidden layer:\n",
      " [[ 0.17771404  0.37771404 -0.52228596]\n",
      " [-0.3         0.1         0.2       ]]\n",
      "Updated b for 1st hidden layer:\n",
      " [-0.42228596  0.26963905]\n",
      "Updated W for output layer:\n",
      " [[0.18128197 0.60241384]]\n",
      "Updated b for output layer:\n",
      " [1.62246784]\n"
     ]
    }
   ],
   "source": [
    "compute_result(x,w,b,w_res,b_res,20)"
   ]
  },
  {
   "cell_type": "code",
   "execution_count": 25,
   "metadata": {},
   "outputs": [
    {
     "name": "stdout",
     "output_type": "stream",
     "text": [
      "Final Output:  [0.8814942650420429]\n",
      "Final Output:  [0.8831392742096614]\n",
      "Final Output:  [0.8847242157129217]\n",
      "Final Output:  [0.8862525198937132]\n",
      "Final Output:  [0.8877273555277471]\n",
      "Final Output:  [0.8891516544607058]\n",
      "Final Output:  [0.890528133508353]\n",
      "Final Output:  [0.8918593139679661]\n",
      "Final Output:  [0.8931475390391408]\n",
      "Final Output:  [0.894394989410409]\n",
      "Final Output:  [0.895603697232894]\n",
      "Final Output:  [0.8967755586723236]\n",
      "Final Output:  [0.8979123452052923]\n",
      "Final Output:  [0.8990157138039396]\n",
      "Final Output:  [0.9000872161346457]\n",
      "Final Output:  [0.9011283068803968]\n",
      "Final Output:  [0.9021403512827848]\n",
      "Final Output:  [0.9031246319877821]\n",
      "Final Output:  [0.9040823552692374]\n",
      "Final Output:  [0.9050146566951991]\n",
      "Final Output:  [0.9059226062945057]\n",
      "Final Output:  [0.9068072132744149]\n",
      "Final Output:  [0.9076694303342345]\n",
      "Final Output:  [0.908510157614839]\n",
      "Final Output:  [0.9093302463195225]\n",
      "Final Output:  [0.9101305020377405]\n",
      "Final Output:  [0.9109116877998813]\n",
      "Final Output:  [0.9116745268881956]\n",
      "Final Output:  [0.912419705426364]\n",
      "Final Output:  [0.913147874767843]\n",
      "Updated W for 1st hidden layer:\n",
      " [[ 0.18952767  0.38952767 -0.51047233]\n",
      " [-0.3         0.1         0.2       ]]\n",
      "Updated b for 1st hidden layer:\n",
      " [-0.41047233  0.31050665]\n",
      "Updated W for output layer:\n",
      " [[0.26051872 0.7375966 ]]\n",
      "Updated b for output layer:\n",
      " [1.86958794]\n"
     ]
    }
   ],
   "source": [
    "compute_result(x,w,b,w_res,b_res,30)"
   ]
  },
  {
   "cell_type": "code",
   "execution_count": 27,
   "metadata": {},
   "outputs": [
    {
     "name": "stdout",
     "output_type": "stream",
     "text": [
      "Final Output:  [0.9366770721382258]\n",
      "Final Output:  [0.9369754390277526]\n",
      "Final Output:  [0.937269923812378]\n",
      "Final Output:  [0.9375606080969122]\n",
      "Final Output:  [0.93784757113425]\n",
      "Final Output:  [0.9381308899110812]\n",
      "Final Output:  [0.9384106392298389]\n",
      "Final Output:  [0.9386868917870783]\n",
      "Final Output:  [0.9389597182484638]\n",
      "Final Output:  [0.9392291873205396]\n",
      "Final Output:  [0.9394953658194457]\n",
      "Final Output:  [0.939758318736724]\n",
      "Final Output:  [0.9400181093023678]\n",
      "Final Output:  [0.9402747990452422]\n",
      "Final Output:  [0.940528447851006]\n",
      "Final Output:  [0.9407791140176566]\n",
      "Final Output:  [0.9410268543088107]\n",
      "Final Output:  [0.9412717240048283]\n",
      "Final Output:  [0.941513776951882]\n",
      "Final Output:  [0.9417530656090694]\n",
      "Final Output:  [0.9419896410936576]\n",
      "Final Output:  [0.9422235532245486]\n",
      "Final Output:  [0.9424548505640455]\n",
      "Final Output:  [0.9426835804579964]\n",
      "Final Output:  [0.9429097890743938]\n",
      "Final Output:  [0.9431335214404929]\n",
      "Final Output:  [0.943354821478521]\n",
      "Final Output:  [0.9435737320400363]\n",
      "Final Output:  [0.943790294938997]\n",
      "Final Output:  [0.9440045509835993]\n",
      "Final Output:  [0.9442165400069336]\n",
      "Final Output:  [0.9444263008965157]\n",
      "Final Output:  [0.9446338716227354]\n",
      "Final Output:  [0.9448392892662734]\n",
      "Final Output:  [0.9450425900445287]\n",
      "Final Output:  [0.9452438093370968]\n",
      "Final Output:  [0.9454429817103409]\n",
      "Final Output:  [0.9456401409410929]\n",
      "Final Output:  [0.9458353200395194]\n",
      "Final Output:  [0.9460285512711888]\n",
      "Final Output:  [0.9462198661783695]\n",
      "Final Output:  [0.9464092956005957]\n",
      "Final Output:  [0.9465968696945218]\n",
      "Final Output:  [0.9467826179531037]\n",
      "Final Output:  [0.9469665692241266]\n",
      "Final Output:  [0.9471487517281081]\n",
      "Final Output:  [0.9473291930756028]\n",
      "Final Output:  [0.9475079202839274]\n",
      "Final Output:  [0.9476849597933333]\n",
      "Final Output:  [0.9478603374826466]\n",
      "Final Output:  [0.9480340786843942]\n",
      "Final Output:  [0.9482062081994387]\n",
      "Final Output:  [0.9483767503111402]\n",
      "Final Output:  [0.9485457287990591]\n",
      "Final Output:  [0.9487131669522234]\n",
      "Final Output:  [0.9488790875819725]\n",
      "Final Output:  [0.9490435130343935]\n",
      "Final Output:  [0.9492064652023681]\n",
      "Final Output:  [0.9493679655372398]\n",
      "Final Output:  [0.9495280350601211]\n",
      "Final Output:  [0.9496866943728467]\n",
      "Final Output:  [0.9498439636685937]\n",
      "Final Output:  [0.9499998627421729]\n",
      "Final Output:  [0.9501544110000084]\n",
      "Final Output:  [0.9503076274698152]\n",
      "Final Output:  [0.950459530809984]\n",
      "Final Output:  [0.9506101393186855]\n",
      "Final Output:  [0.9507594709427033]\n",
      "Final Output:  [0.9509075432860035]\n",
      "Final Output:  [0.9510543736180536]\n",
      "Final Output:  [0.9511999788818957]\n",
      "Final Output:  [0.951344375701984]\n",
      "Final Output:  [0.9514875803917957]\n",
      "Final Output:  [0.9516296089612206]\n",
      "Final Output:  [0.9517704771237391]\n",
      "Final Output:  [0.951910200303395]\n",
      "Final Output:  [0.9520487936415686]\n",
      "Final Output:  [0.9521862720035593]\n",
      "Final Output:  [0.9523226499849831]\n",
      "Final Output:  [0.9524579419179875]\n",
      "Final Output:  [0.9525921618772984]\n",
      "Final Output:  [0.9527253236860939]\n",
      "Final Output:  [0.9528574409217181]\n",
      "Final Output:  [0.952988526921239]\n",
      "Final Output:  [0.9531185947868523]\n",
      "Final Output:  [0.9532476573911386]\n",
      "Final Output:  [0.9533757273821789]\n",
      "Final Output:  [0.9535028171885312]\n",
      "Final Output:  [0.9536289390240744]\n",
      "Final Output:  [0.9537541048927219]\n",
      "Final Output:  [0.9538783265930113]\n",
      "Final Output:  [0.9540016157225704]\n",
      "Final Output:  [0.9541239836824678]\n",
      "Final Output:  [0.954245441681449]\n",
      "Final Output:  [0.9543660007400604]\n",
      "Final Output:  [0.9544856716946681]\n",
      "Final Output:  [0.954604465201372]\n",
      "Final Output:  [0.9547223917398193]\n",
      "Final Output:  [0.9548394616169195]\n",
      "Final Output:  [0.9549556849704659]\n",
      "Updated W for 1st hidden layer:\n",
      " [[ 0.2245253  0.4245253 -0.4754747]\n",
      " [-0.3        0.1        0.2      ]]\n",
      "Updated b for 1st hidden layer:\n",
      " [-0.3754747   0.40962533]\n",
      "Updated W for output layer:\n",
      " [[0.41659373 0.99996799]]\n",
      "Updated b for output layer:\n",
      " [2.33481987]\n"
     ]
    }
   ],
   "source": [
    "compute_result(x,w,b,w_res,b_res,100)"
   ]
  },
  {
   "cell_type": "code",
   "execution_count": 28,
   "metadata": {},
   "outputs": [
    {
     "name": "stdout",
     "output_type": "stream",
     "text": [
      "Final Output:  [0.9550710717726656]\n",
      "Final Output:  [0.9551856318335773]\n",
      "Final Output:  [0.9552993748044664]\n",
      "Final Output:  [0.9554123101810732]\n",
      "Final Output:  [0.9555244473068015]\n",
      "Final Output:  [0.9556357953758268]\n",
      "Final Output:  [0.9557463634361278]\n",
      "Final Output:  [0.9558561603924449]\n",
      "Final Output:  [0.9559651950091631]\n",
      "Final Output:  [0.9560734759131274]\n",
      "Final Output:  [0.9561810115963891]\n",
      "Final Output:  [0.9562878104188847]\n",
      "Final Output:  [0.956393880611051]\n",
      "Final Output:  [0.9564992302763778]\n",
      "Final Output:  [0.956603867393899]\n",
      "Final Output:  [0.9567077998206249]\n",
      "Final Output:  [0.9568110352939168]\n",
      "Final Output:  [0.9569135814338046]\n",
      "Final Output:  [0.9570154457452529]\n",
      "Final Output:  [0.9571166356203703]\n",
      "Final Output:  [0.9572171583405703]\n",
      "Final Output:  [0.9573170210786793]\n",
      "Final Output:  [0.9574162309010003]\n",
      "Final Output:  [0.9575147947693231]\n",
      "Final Output:  [0.9576127195428941]\n",
      "Final Output:  [0.9577100119803378]\n",
      "Final Output:  [0.9578066787415354]\n",
      "Final Output:  [0.9579027263894614]\n",
      "Final Output:  [0.957998161391979]\n",
      "Final Output:  [0.9580929901235934]\n",
      "Final Output:  [0.9581872188671686]\n",
      "Final Output:  [0.9582808538156031]\n",
      "Final Output:  [0.958373901073471]\n",
      "Final Output:  [0.9584663666586256]\n",
      "Final Output:  [0.958558256503767]\n",
      "Final Output:  [0.958649576457977]\n",
      "Final Output:  [0.9587403322882192]\n",
      "Final Output:  [0.9588305296808067]\n",
      "Final Output:  [0.9589201742428389]\n",
      "Final Output:  [0.9590092715036056]\n",
      "Final Output:  [0.9590978269159626]\n",
      "Final Output:  [0.9591858458576771]\n",
      "Final Output:  [0.9592733336327434]\n",
      "Final Output:  [0.9593602954726731]\n",
      "Final Output:  [0.9594467365377554]\n",
      "Final Output:  [0.9595326619182919]\n",
      "Final Output:  [0.9596180766358066]\n",
      "Final Output:  [0.9597029856442274]\n",
      "Final Output:  [0.959787393831047]\n",
      "Final Output:  [0.9598713060184562]\n",
      "Final Output:  [0.9599547269644557]\n",
      "Final Output:  [0.9600376613639443]\n",
      "Final Output:  [0.9601201138497846]\n",
      "Final Output:  [0.9602020889938471]\n",
      "Final Output:  [0.9602835913080341]\n",
      "Final Output:  [0.9603646252452795]\n",
      "Final Output:  [0.9604451952005325]\n",
      "Final Output:  [0.9605253055117178]\n",
      "Final Output:  [0.9606049604606799]\n",
      "Final Output:  [0.9606841642741045]\n",
      "Final Output:  [0.960762921124426]\n",
      "Final Output:  [0.9608412351307124]\n",
      "Final Output:  [0.9609191103595367]\n",
      "Final Output:  [0.9609965508258281]\n",
      "Final Output:  [0.9610735604937076]\n",
      "Final Output:  [0.9611501432773083]\n",
      "Final Output:  [0.9612263030415767]\n",
      "Final Output:  [0.9613020436030622]\n",
      "Final Output:  [0.9613773687306875]\n",
      "Final Output:  [0.9614522821465067]\n",
      "Final Output:  [0.9615267875264483]\n",
      "Final Output:  [0.9616008885010431]\n",
      "Final Output:  [0.9616745886561385]\n",
      "Final Output:  [0.9617478915335991]\n",
      "Final Output:  [0.9618208006319949]\n",
      "Final Output:  [0.9618933194072757]\n",
      "Final Output:  [0.9619654512734311]\n",
      "Final Output:  [0.962037199603142]\n",
      "Final Output:  [0.9621085677284161]\n",
      "Final Output:  [0.9621795589412133]\n",
      "Final Output:  [0.9622501764940596]\n",
      "Final Output:  [0.9623204236006488]\n",
      "Final Output:  [0.9623903034364328]\n",
      "Final Output:  [0.9624598191392025]\n",
      "Final Output:  [0.962528973809657]\n",
      "Final Output:  [0.9625977705119615]\n",
      "Final Output:  [0.9626662122742975]\n",
      "Final Output:  [0.9627343020893996]\n",
      "Final Output:  [0.9628020429150859]\n",
      "Final Output:  [0.9628694376747765]\n",
      "Final Output:  [0.9629364892580036]\n",
      "Final Output:  [0.9630032005209124]\n",
      "Final Output:  [0.963069574286752]\n",
      "Final Output:  [0.96313561334636]\n",
      "Final Output:  [0.9632013204586349]\n",
      "Final Output:  [0.963266698351004]\n",
      "Final Output:  [0.9633317497198792]\n",
      "Final Output:  [0.9633964772311083]\n",
      "Final Output:  [0.9634608835204148]\n",
      "Final Output:  [0.9635249711938342]\n",
      "Updated W for 1st hidden layer:\n",
      " [[ 0.23870134  0.43870134 -0.46129866]\n",
      " [-0.3         0.1         0.2       ]]\n",
      "Updated b for 1st hidden layer:\n",
      " [-0.36129866  0.44525814]\n",
      "Updated W for output layer:\n",
      " [[0.46626723 1.08172627]]\n",
      "Updated b for output layer:\n",
      " [2.47553058]\n"
     ]
    }
   ],
   "source": [
    "compute_result(x,w,b,w_res,b_res,100)"
   ]
  },
  {
   "cell_type": "code",
   "execution_count": null,
   "metadata": {},
   "outputs": [],
   "source": []
  }
 ],
 "metadata": {
  "kernelspec": {
   "display_name": "Python 3",
   "language": "python",
   "name": "python3"
  },
  "language_info": {
   "codemirror_mode": {
    "name": "ipython",
    "version": 3
   },
   "file_extension": ".py",
   "mimetype": "text/x-python",
   "name": "python",
   "nbconvert_exporter": "python",
   "pygments_lexer": "ipython3",
   "version": "3.11.3"
  }
 },
 "nbformat": 4,
 "nbformat_minor": 2
}
