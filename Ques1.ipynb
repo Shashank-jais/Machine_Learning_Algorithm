{
 "cells": [
  {
   "cell_type": "code",
   "execution_count": 1,
   "metadata": {},
   "outputs": [],
   "source": [
    "x=[1,0,1]\n",
    "w = [[0.2,0.4,-0.5],\n",
    "     [-0.3,0.1,0.2]]\n",
    "\n",
    "b = [-0.4,0.2,0.1]\n"
   ]
  },
  {
   "cell_type": "code",
   "execution_count": 2,
   "metadata": {},
   "outputs": [],
   "source": [
    "import math\n",
    "inp_res=[]\n",
    "\n",
    "for i in range(2) :\n",
    "    inp =0 \n",
    "    for j in range(3):\n",
    "        inp+= x[j]*w[i][j]\n",
    "    inp+=b[i]\n",
    "    out = 1/(1+math.exp(-inp))\n",
    "    inp_res.append(out)"
   ]
  },
  {
   "cell_type": "code",
   "execution_count": 3,
   "metadata": {},
   "outputs": [
    {
     "data": {
      "text/plain": [
       "[0.3318122278318339, 0.52497918747894]"
      ]
     },
     "execution_count": 3,
     "metadata": {},
     "output_type": "execute_result"
    }
   ],
   "source": [
    "inp_res"
   ]
  },
  {
   "cell_type": "code",
   "execution_count": 4,
   "metadata": {},
   "outputs": [
    {
     "data": {
      "text/plain": [
       "0.47388889882398544"
      ]
     },
     "execution_count": 4,
     "metadata": {},
     "output_type": "execute_result"
    }
   ],
   "source": [
    "w_res=[-0.3,-0.2]\n",
    "b_res = 0.1\n",
    "final_input = inp_res[0]*w_res[0]+w_res[1]*inp_res[1]+b_res\n",
    "final_out = 1/(1+math.exp(-final_input))\n",
    "final_out"
   ]
  },
  {
   "cell_type": "code",
   "execution_count": 5,
   "metadata": {},
   "outputs": [],
   "source": [
    "target = 1"
   ]
  },
  {
   "cell_type": "code",
   "execution_count": 6,
   "metadata": {},
   "outputs": [
    {
     "data": {
      "text/plain": [
       "0.1311690782143445"
      ]
     },
     "execution_count": 6,
     "metadata": {},
     "output_type": "execute_result"
    }
   ],
   "source": [
    "err_final = final_out * (1-final_out) * (target - final_out)\n",
    "err_final"
   ]
  },
  {
   "cell_type": "code",
   "execution_count": 7,
   "metadata": {},
   "outputs": [
    {
     "name": "stdout",
     "output_type": "stream",
     "text": [
      "[-0.008724561965433263, -0.006542085064168994]\n"
     ]
    }
   ],
   "source": [
    "err=[]\n",
    "for i in range(2):\n",
    "    err.append( inp_res[i]*(1-inp_res[i])*err_final*w_res[i])\n",
    "\n",
    "print(err)"
   ]
  },
  {
   "cell_type": "code",
   "execution_count": 8,
   "metadata": {},
   "outputs": [
    {
     "name": "stdout",
     "output_type": "stream",
     "text": [
      "[-0.26082884634154524, -0.13802506750700472]\n"
     ]
    }
   ],
   "source": [
    "for i in range(2):\n",
    "    w_res[i] = w_res[i]+0.9* err_final*inp_res[i]\n",
    "print(w_res)"
   ]
  },
  {
   "cell_type": "code",
   "execution_count": 9,
   "metadata": {},
   "outputs": [
    {
     "name": "stdout",
     "output_type": "stream",
     "text": [
      "[[0.19214789423111006, 0.3921478942311101, -0.50785210576889], [-0.3, 0.1, 0.2]]\n"
     ]
    }
   ],
   "source": [
    "for i in range(2):\n",
    "    for j in range(3):\n",
    "        w[i][j] = w[i][j]+0.9*err[i]*x[i]\n",
    "print(w)"
   ]
  },
  {
   "cell_type": "code",
   "execution_count": 1,
   "metadata": {},
   "outputs": [
    {
     "ename": "NameError",
     "evalue": "name 'err' is not defined",
     "output_type": "error",
     "traceback": [
      "\u001b[1;31m---------------------------------------------------------------------------\u001b[0m",
      "\u001b[1;31mNameError\u001b[0m                                 Traceback (most recent call last)",
      "Cell \u001b[1;32mIn[1], line 2\u001b[0m\n\u001b[0;32m      1\u001b[0m \u001b[38;5;28;01mfor\u001b[39;00m i \u001b[38;5;129;01min\u001b[39;00m \u001b[38;5;28mrange\u001b[39m(\u001b[38;5;241m2\u001b[39m):\n\u001b[1;32m----> 2\u001b[0m         \u001b[38;5;28mprint\u001b[39m(\u001b[43merr\u001b[49m[i])\n\u001b[0;32m      3\u001b[0m         b[i] \u001b[38;5;241m=\u001b[39m b[i]\u001b[38;5;241m+\u001b[39m\u001b[38;5;241m0.9\u001b[39m\u001b[38;5;241m*\u001b[39merr[i]\n\u001b[0;32m      4\u001b[0m \u001b[38;5;28mprint\u001b[39m(b)\n",
      "\u001b[1;31mNameError\u001b[0m: name 'err' is not defined"
     ]
    }
   ],
   "source": [
    "for i in range(2):\n",
    "        print(err[i])\n",
    "        b[i] = b[i]+0.9*err[i]\n",
    "print(b)\n"
   ]
  },
  {
   "cell_type": "code",
   "execution_count": null,
   "metadata": {},
   "outputs": [],
   "source": []
  },
  {
   "cell_type": "code",
   "execution_count": null,
   "metadata": {},
   "outputs": [],
   "source": []
  }
 ],
 "metadata": {
  "kernelspec": {
   "display_name": "Python 3",
   "language": "python",
   "name": "python3"
  },
  "language_info": {
   "codemirror_mode": {
    "name": "ipython",
    "version": 3
   },
   "file_extension": ".py",
   "mimetype": "text/x-python",
   "name": "python",
   "nbconvert_exporter": "python",
   "pygments_lexer": "ipython3",
   "version": "3.11.3"
  }
 },
 "nbformat": 4,
 "nbformat_minor": 2
}
