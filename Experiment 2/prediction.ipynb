{
 "cells": [
  {
   "cell_type": "code",
   "execution_count": 5,
   "metadata": {},
   "outputs": [],
   "source": [
    "import tensorflow as tf\n",
    "from tensorflow import keras\n",
    "from keras.datasets import mnist\n",
    "from keras.utils import to_categorical"
   ]
  },
  {
   "cell_type": "code",
   "execution_count": 6,
   "metadata": {},
   "outputs": [],
   "source": [
    "def load_dataset():\n",
    "    (train_x,train_y),(test_x,test_y) = mnist.load_data()\n",
    "    train_x = train_x.reshape((train_x.shape[0],28,28,1))\n",
    "    test_x = test_x.reshape((test_x.shape[0],28,28,1))\n",
    "\n",
    "    train_y = to_categorical(train_y)\n",
    "    test_y = to_categorical(test_y)\n",
    "    return train_x, train_y, test_x, test_y"
   ]
  },
  {
   "cell_type": "code",
   "execution_count": 7,
   "metadata": {},
   "outputs": [],
   "source": [
    "import numpy as np\n",
    "def nom_pixels(train_x, test_x):\n",
    "    norm_train = train_x.astype(np.float32)\n",
    "    norm_test  = test_x.astype(np.float32)\n",
    "\n",
    "    norm_train = norm_train/255.0\n",
    "    norm_test = norm_test/255.0\n",
    "\n",
    "    return norm_train, norm_test"
   ]
  },
  {
   "cell_type": "code",
   "execution_count": 10,
   "metadata": {},
   "outputs": [],
   "source": [
    "from tensorflow.keras.models import load_model\n",
    "def run():\n",
    "    x_train, y_train, x_test, y_test = load_dataset()\n",
    "\n",
    "    x_train,x_test = nom_pixels(x_train, x_test)\n",
    "\n",
    "    model = load_model('MNIST_Model.keras')\n",
    "\n",
    "    _,acc = model.evaluate(x_test, y_test, verbose =0)\n",
    "    print('Test accuracy :  %.3f' % (acc * 100.0))\n"
   ]
  },
  {
   "cell_type": "code",
   "execution_count": 11,
   "metadata": {},
   "outputs": [
    {
     "name": "stdout",
     "output_type": "stream",
     "text": [
      "Test accuracy :  99.200\n"
     ]
    }
   ],
   "source": [
    "run()"
   ]
  },
  {
   "cell_type": "code",
   "execution_count": 33,
   "metadata": {},
   "outputs": [
    {
     "name": "stdout",
     "output_type": "stream",
     "text": [
      "\u001b[1m1/1\u001b[0m \u001b[32m━━━━━━━━━━━━━━━━━━━━\u001b[0m\u001b[37m\u001b[0m \u001b[1m0s\u001b[0m 144ms/step\n",
      "Presicted Digit:  1\n"
     ]
    }
   ],
   "source": [
    "from numpy import argmax\n",
    "from keras.preprocessing.image import load_img\n",
    "from keras.preprocessing.image import img_to_array\n",
    "from keras.models import load_model\n",
    "\n",
    "def load_image(image_path):\n",
    "\n",
    "    img= load_img(image_path , color_mode = 'grayscale' , target_size =(28,28))\n",
    "\n",
    "    img = img_to_array(img)\n",
    "    img = img.reshape((1,28,28,1))\n",
    "    img = img.astype('float32')\n",
    "    img= img/255.0\n",
    "    return img\n",
    "\n",
    "def predict():\n",
    "    img = load_image(r\"C:\\Users\\HP\\Desktop\\Deep Learning\\Machine_Learning_Algorithm\\Experiment 2\\archive\\testSet\\testSet\\img_1144.jpg\")\n",
    "\n",
    "    model = load_model('MNIST_Model.keras')\n",
    "    predict = model.predict(img)\n",
    "    digit = argmax(predict)\n",
    "\n",
    "    print(\"Presicted Digit: \",digit)\n",
    "\n",
    "\n",
    "predict()"
   ]
  },
  {
   "cell_type": "code",
   "execution_count": null,
   "metadata": {},
   "outputs": [],
   "source": []
  },
  {
   "cell_type": "code",
   "execution_count": null,
   "metadata": {},
   "outputs": [],
   "source": []
  }
 ],
 "metadata": {
  "kernelspec": {
   "display_name": "Python 3",
   "language": "python",
   "name": "python3"
  },
  "language_info": {
   "codemirror_mode": {
    "name": "ipython",
    "version": 3
   },
   "file_extension": ".py",
   "mimetype": "text/x-python",
   "name": "python",
   "nbconvert_exporter": "python",
   "pygments_lexer": "ipython3",
   "version": "3.11.3"
  }
 },
 "nbformat": 4,
 "nbformat_minor": 2
}
